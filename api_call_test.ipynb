{
  "nbformat": 4,
  "nbformat_minor": 0,
  "metadata": {
    "colab": {
      "provenance": [],
      "gpuType": "T4",
      "authorship_tag": "ABX9TyOtugFfnOYVumvwYNdZyaA5",
      "include_colab_link": true
    },
    "kernelspec": {
      "name": "python3",
      "display_name": "Python 3"
    },
    "language_info": {
      "name": "python"
    },
    "accelerator": "GPU"
  },
  "cells": [
    {
      "cell_type": "markdown",
      "metadata": {
        "id": "view-in-github",
        "colab_type": "text"
      },
      "source": [
        "<a href=\"https://colab.research.google.com/github/leehimcm/AI-SS-ASSISTANT-AI/blob/main/api_call_test.ipynb\" target=\"_parent\"><img src=\"https://colab.research.google.com/assets/colab-badge.svg\" alt=\"Open In Colab\"/></a>"
      ]
    },
    {
      "cell_type": "code",
      "source": [
        "!pip install -r requirements.txt --quiet"
      ],
      "metadata": {
        "colab": {
          "base_uri": "https://localhost:8080/"
        },
        "collapsed": true,
        "id": "9_37Jx-HD_xF",
        "outputId": "0f182bf3-4ed5-4214-d443-b8ab54c50358"
      },
      "execution_count": null,
      "outputs": [
        {
          "output_type": "stream",
          "name": "stdout",
          "text": [
            "Collecting numpy==1.26.4 (from -r requirements.txt (line 1))\n",
            "  Downloading numpy-1.26.4-cp312-cp312-manylinux_2_17_x86_64.manylinux2014_x86_64.whl.metadata (61 kB)\n",
            "\u001b[?25l     \u001b[90m━━━━━━━━━━━━━━━━━━━━━━━━━━━━━━━━━━━━━━━━\u001b[0m \u001b[32m0.0/61.0 kB\u001b[0m \u001b[31m?\u001b[0m eta \u001b[36m-:--:--\u001b[0m\r\u001b[2K     \u001b[90m━━━━━━━━━━━━━━━━━━━━━━━━━━━━━━━━━━━━━━━━\u001b[0m \u001b[32m61.0/61.0 kB\u001b[0m \u001b[31m3.3 MB/s\u001b[0m eta \u001b[36m0:00:00\u001b[0m\n",
            "\u001b[?25hCollecting pulp==3.3.0 (from -r requirements.txt (line 2))\n",
            "  Downloading pulp-3.3.0-py3-none-any.whl.metadata (8.4 kB)\n",
            "Collecting gymnasium==0.28.1 (from -r requirements.txt (line 3))\n",
            "  Downloading gymnasium-0.28.1-py3-none-any.whl.metadata (9.2 kB)\n",
            "Collecting tianshou==1.2.0 (from -r requirements.txt (line 4))\n",
            "  Downloading tianshou-1.2.0-py3-none-any.whl.metadata (30 kB)\n",
            "Requirement already satisfied: fastapi in /usr/local/lib/python3.12/dist-packages (from -r requirements.txt (line 6)) (0.119.1)\n",
            "Requirement already satisfied: pydantic in /usr/local/lib/python3.12/dist-packages (from -r requirements.txt (line 8)) (2.11.10)\n",
            "Requirement already satisfied: uvicorn[standard] in /usr/local/lib/python3.12/dist-packages (from -r requirements.txt (line 7)) (0.38.0)\n",
            "Collecting jax-jumpy>=1.0.0 (from gymnasium==0.28.1->-r requirements.txt (line 3))\n",
            "  Downloading jax_jumpy-1.0.0-py3-none-any.whl.metadata (15 kB)\n",
            "Requirement already satisfied: cloudpickle>=1.2.0 in /usr/local/lib/python3.12/dist-packages (from gymnasium==0.28.1->-r requirements.txt (line 3)) (3.1.1)\n",
            "Requirement already satisfied: typing-extensions>=4.3.0 in /usr/local/lib/python3.12/dist-packages (from gymnasium==0.28.1->-r requirements.txt (line 3)) (4.15.0)\n",
            "Requirement already satisfied: farama-notifications>=0.0.1 in /usr/local/lib/python3.12/dist-packages (from gymnasium==0.28.1->-r requirements.txt (line 3)) (0.0.4)\n",
            "Collecting deepdiff<8.0.0,>=7.0.1 (from tianshou==1.2.0->-r requirements.txt (line 4))\n",
            "  Downloading deepdiff-7.0.1-py3-none-any.whl.metadata (6.8 kB)\n",
            "Requirement already satisfied: h5py<4.0.0,>=3.9.0 in /usr/local/lib/python3.12/dist-packages (from tianshou==1.2.0->-r requirements.txt (line 4)) (3.15.1)\n",
            "Requirement already satisfied: matplotlib>=3.0.0 in /usr/local/lib/python3.12/dist-packages (from tianshou==1.2.0->-r requirements.txt (line 4)) (3.10.0)\n",
            "Requirement already satisfied: numba>=0.60.0 in /usr/local/lib/python3.12/dist-packages (from tianshou==1.2.0->-r requirements.txt (line 4)) (0.60.0)\n",
            "Requirement already satisfied: overrides<8.0.0,>=7.4.0 in /usr/local/lib/python3.12/dist-packages (from tianshou==1.2.0->-r requirements.txt (line 4)) (7.7.0)\n",
            "Requirement already satisfied: packaging in /usr/local/lib/python3.12/dist-packages (from tianshou==1.2.0->-r requirements.txt (line 4)) (25.0)\n",
            "Requirement already satisfied: pandas>=2.0.0 in /usr/local/lib/python3.12/dist-packages (from tianshou==1.2.0->-r requirements.txt (line 4)) (2.2.2)\n",
            "Collecting pettingzoo<2.0,>=1.22 (from tianshou==1.2.0->-r requirements.txt (line 4))\n",
            "  Downloading pettingzoo-1.25.0-py3-none-any.whl.metadata (8.9 kB)\n",
            "Collecting sensai-utils<2.0.0,>=1.4.0 (from tianshou==1.2.0->-r requirements.txt (line 4))\n",
            "  Downloading sensai_utils-1.6.0-py3-none-any.whl.metadata (563 bytes)\n",
            "Requirement already satisfied: tensorboard<3.0.0,>=2.5.0 in /usr/local/lib/python3.12/dist-packages (from tianshou==1.2.0->-r requirements.txt (line 4)) (2.19.0)\n",
            "Requirement already satisfied: torch!=2.0.1,!=2.1.0,<3.0.0,>=2.0.0 in /usr/local/lib/python3.12/dist-packages (from tianshou==1.2.0->-r requirements.txt (line 4)) (2.8.0+cu126)\n",
            "Requirement already satisfied: tqdm in /usr/local/lib/python3.12/dist-packages (from tianshou==1.2.0->-r requirements.txt (line 4)) (4.67.1)\n",
            "Collecting virtualenv!=20.4.5,!=20.4.6,<21.0.0,>=20.4.3 (from tianshou==1.2.0->-r requirements.txt (line 4))\n",
            "  Downloading virtualenv-20.35.3-py3-none-any.whl.metadata (4.6 kB)\n",
            "Requirement already satisfied: starlette<0.49.0,>=0.40.0 in /usr/local/lib/python3.12/dist-packages (from fastapi->-r requirements.txt (line 6)) (0.48.0)\n",
            "Requirement already satisfied: click>=7.0 in /usr/local/lib/python3.12/dist-packages (from uvicorn[standard]->-r requirements.txt (line 7)) (8.3.0)\n",
            "Requirement already satisfied: h11>=0.8 in /usr/local/lib/python3.12/dist-packages (from uvicorn[standard]->-r requirements.txt (line 7)) (0.16.0)\n",
            "Collecting httptools>=0.6.3 (from uvicorn[standard]->-r requirements.txt (line 7))\n",
            "  Downloading httptools-0.7.1-cp312-cp312-manylinux1_x86_64.manylinux_2_28_x86_64.manylinux_2_5_x86_64.whl.metadata (3.5 kB)\n",
            "Requirement already satisfied: python-dotenv>=0.13 in /usr/local/lib/python3.12/dist-packages (from uvicorn[standard]->-r requirements.txt (line 7)) (1.1.1)\n",
            "Requirement already satisfied: pyyaml>=5.1 in /usr/local/lib/python3.12/dist-packages (from uvicorn[standard]->-r requirements.txt (line 7)) (6.0.3)\n",
            "Collecting uvloop>=0.15.1 (from uvicorn[standard]->-r requirements.txt (line 7))\n",
            "  Downloading uvloop-0.22.1-cp312-cp312-manylinux2014_x86_64.manylinux_2_17_x86_64.manylinux_2_28_x86_64.whl.metadata (4.9 kB)\n",
            "Collecting watchfiles>=0.13 (from uvicorn[standard]->-r requirements.txt (line 7))\n",
            "  Downloading watchfiles-1.1.1-cp312-cp312-manylinux_2_17_x86_64.manylinux2014_x86_64.whl.metadata (4.9 kB)\n",
            "Requirement already satisfied: websockets>=10.4 in /usr/local/lib/python3.12/dist-packages (from uvicorn[standard]->-r requirements.txt (line 7)) (15.0.1)\n",
            "Requirement already satisfied: annotated-types>=0.6.0 in /usr/local/lib/python3.12/dist-packages (from pydantic->-r requirements.txt (line 8)) (0.7.0)\n",
            "Requirement already satisfied: pydantic-core==2.33.2 in /usr/local/lib/python3.12/dist-packages (from pydantic->-r requirements.txt (line 8)) (2.33.2)\n",
            "Requirement already satisfied: typing-inspection>=0.4.0 in /usr/local/lib/python3.12/dist-packages (from pydantic->-r requirements.txt (line 8)) (0.4.2)\n",
            "Collecting ordered-set<4.2.0,>=4.1.0 (from deepdiff<8.0.0,>=7.0.1->tianshou==1.2.0->-r requirements.txt (line 4))\n",
            "  Downloading ordered_set-4.1.0-py3-none-any.whl.metadata (5.3 kB)\n",
            "Requirement already satisfied: contourpy>=1.0.1 in /usr/local/lib/python3.12/dist-packages (from matplotlib>=3.0.0->tianshou==1.2.0->-r requirements.txt (line 4)) (1.3.3)\n",
            "Requirement already satisfied: cycler>=0.10 in /usr/local/lib/python3.12/dist-packages (from matplotlib>=3.0.0->tianshou==1.2.0->-r requirements.txt (line 4)) (0.12.1)\n",
            "Requirement already satisfied: fonttools>=4.22.0 in /usr/local/lib/python3.12/dist-packages (from matplotlib>=3.0.0->tianshou==1.2.0->-r requirements.txt (line 4)) (4.60.1)\n",
            "Requirement already satisfied: kiwisolver>=1.3.1 in /usr/local/lib/python3.12/dist-packages (from matplotlib>=3.0.0->tianshou==1.2.0->-r requirements.txt (line 4)) (1.4.9)\n",
            "Requirement already satisfied: pillow>=8 in /usr/local/lib/python3.12/dist-packages (from matplotlib>=3.0.0->tianshou==1.2.0->-r requirements.txt (line 4)) (11.3.0)\n",
            "Requirement already satisfied: pyparsing>=2.3.1 in /usr/local/lib/python3.12/dist-packages (from matplotlib>=3.0.0->tianshou==1.2.0->-r requirements.txt (line 4)) (3.2.5)\n",
            "Requirement already satisfied: python-dateutil>=2.7 in /usr/local/lib/python3.12/dist-packages (from matplotlib>=3.0.0->tianshou==1.2.0->-r requirements.txt (line 4)) (2.9.0.post0)\n",
            "Requirement already satisfied: llvmlite<0.44,>=0.43.0dev0 in /usr/local/lib/python3.12/dist-packages (from numba>=0.60.0->tianshou==1.2.0->-r requirements.txt (line 4)) (0.43.0)\n",
            "Requirement already satisfied: pytz>=2020.1 in /usr/local/lib/python3.12/dist-packages (from pandas>=2.0.0->tianshou==1.2.0->-r requirements.txt (line 4)) (2025.2)\n",
            "Requirement already satisfied: tzdata>=2022.7 in /usr/local/lib/python3.12/dist-packages (from pandas>=2.0.0->tianshou==1.2.0->-r requirements.txt (line 4)) (2025.2)\n",
            "INFO: pip is looking at multiple versions of pettingzoo to determine which version is compatible with other requirements. This could take a while.\n",
            "Collecting pettingzoo<2.0,>=1.22 (from tianshou==1.2.0->-r requirements.txt (line 4))\n",
            "  Downloading pettingzoo-1.24.4-py3-none-any.whl.metadata (8.9 kB)\n",
            "  Downloading pettingzoo-1.24.3-py3-none-any.whl.metadata (8.5 kB)\n",
            "Requirement already satisfied: anyio<5,>=3.6.2 in /usr/local/lib/python3.12/dist-packages (from starlette<0.49.0,>=0.40.0->fastapi->-r requirements.txt (line 6)) (4.11.0)\n",
            "Requirement already satisfied: absl-py>=0.4 in /usr/local/lib/python3.12/dist-packages (from tensorboard<3.0.0,>=2.5.0->tianshou==1.2.0->-r requirements.txt (line 4)) (1.4.0)\n",
            "Requirement already satisfied: grpcio>=1.48.2 in /usr/local/lib/python3.12/dist-packages (from tensorboard<3.0.0,>=2.5.0->tianshou==1.2.0->-r requirements.txt (line 4)) (1.75.1)\n",
            "Requirement already satisfied: markdown>=2.6.8 in /usr/local/lib/python3.12/dist-packages (from tensorboard<3.0.0,>=2.5.0->tianshou==1.2.0->-r requirements.txt (line 4)) (3.9)\n",
            "Requirement already satisfied: protobuf!=4.24.0,>=3.19.6 in /usr/local/lib/python3.12/dist-packages (from tensorboard<3.0.0,>=2.5.0->tianshou==1.2.0->-r requirements.txt (line 4)) (5.29.5)\n",
            "Requirement already satisfied: setuptools>=41.0.0 in /usr/local/lib/python3.12/dist-packages (from tensorboard<3.0.0,>=2.5.0->tianshou==1.2.0->-r requirements.txt (line 4)) (75.2.0)\n",
            "Requirement already satisfied: six>1.9 in /usr/local/lib/python3.12/dist-packages (from tensorboard<3.0.0,>=2.5.0->tianshou==1.2.0->-r requirements.txt (line 4)) (1.17.0)\n",
            "Requirement already satisfied: tensorboard-data-server<0.8.0,>=0.7.0 in /usr/local/lib/python3.12/dist-packages (from tensorboard<3.0.0,>=2.5.0->tianshou==1.2.0->-r requirements.txt (line 4)) (0.7.2)\n",
            "Requirement already satisfied: werkzeug>=1.0.1 in /usr/local/lib/python3.12/dist-packages (from tensorboard<3.0.0,>=2.5.0->tianshou==1.2.0->-r requirements.txt (line 4)) (3.1.3)\n",
            "Requirement already satisfied: filelock in /usr/local/lib/python3.12/dist-packages (from torch!=2.0.1,!=2.1.0,<3.0.0,>=2.0.0->tianshou==1.2.0->-r requirements.txt (line 4)) (3.20.0)\n",
            "Requirement already satisfied: sympy>=1.13.3 in /usr/local/lib/python3.12/dist-packages (from torch!=2.0.1,!=2.1.0,<3.0.0,>=2.0.0->tianshou==1.2.0->-r requirements.txt (line 4)) (1.13.3)\n",
            "Requirement already satisfied: networkx in /usr/local/lib/python3.12/dist-packages (from torch!=2.0.1,!=2.1.0,<3.0.0,>=2.0.0->tianshou==1.2.0->-r requirements.txt (line 4)) (3.5)\n",
            "Requirement already satisfied: jinja2 in /usr/local/lib/python3.12/dist-packages (from torch!=2.0.1,!=2.1.0,<3.0.0,>=2.0.0->tianshou==1.2.0->-r requirements.txt (line 4)) (3.1.6)\n",
            "Requirement already satisfied: fsspec in /usr/local/lib/python3.12/dist-packages (from torch!=2.0.1,!=2.1.0,<3.0.0,>=2.0.0->tianshou==1.2.0->-r requirements.txt (line 4)) (2025.3.0)\n",
            "Requirement already satisfied: nvidia-cuda-nvrtc-cu12==12.6.77 in /usr/local/lib/python3.12/dist-packages (from torch!=2.0.1,!=2.1.0,<3.0.0,>=2.0.0->tianshou==1.2.0->-r requirements.txt (line 4)) (12.6.77)\n",
            "Requirement already satisfied: nvidia-cuda-runtime-cu12==12.6.77 in /usr/local/lib/python3.12/dist-packages (from torch!=2.0.1,!=2.1.0,<3.0.0,>=2.0.0->tianshou==1.2.0->-r requirements.txt (line 4)) (12.6.77)\n",
            "Requirement already satisfied: nvidia-cuda-cupti-cu12==12.6.80 in /usr/local/lib/python3.12/dist-packages (from torch!=2.0.1,!=2.1.0,<3.0.0,>=2.0.0->tianshou==1.2.0->-r requirements.txt (line 4)) (12.6.80)\n",
            "Requirement already satisfied: nvidia-cudnn-cu12==9.10.2.21 in /usr/local/lib/python3.12/dist-packages (from torch!=2.0.1,!=2.1.0,<3.0.0,>=2.0.0->tianshou==1.2.0->-r requirements.txt (line 4)) (9.10.2.21)\n",
            "Requirement already satisfied: nvidia-cublas-cu12==12.6.4.1 in /usr/local/lib/python3.12/dist-packages (from torch!=2.0.1,!=2.1.0,<3.0.0,>=2.0.0->tianshou==1.2.0->-r requirements.txt (line 4)) (12.6.4.1)\n",
            "Requirement already satisfied: nvidia-cufft-cu12==11.3.0.4 in /usr/local/lib/python3.12/dist-packages (from torch!=2.0.1,!=2.1.0,<3.0.0,>=2.0.0->tianshou==1.2.0->-r requirements.txt (line 4)) (11.3.0.4)\n",
            "Requirement already satisfied: nvidia-curand-cu12==10.3.7.77 in /usr/local/lib/python3.12/dist-packages (from torch!=2.0.1,!=2.1.0,<3.0.0,>=2.0.0->tianshou==1.2.0->-r requirements.txt (line 4)) (10.3.7.77)\n",
            "Requirement already satisfied: nvidia-cusolver-cu12==11.7.1.2 in /usr/local/lib/python3.12/dist-packages (from torch!=2.0.1,!=2.1.0,<3.0.0,>=2.0.0->tianshou==1.2.0->-r requirements.txt (line 4)) (11.7.1.2)\n",
            "Requirement already satisfied: nvidia-cusparse-cu12==12.5.4.2 in /usr/local/lib/python3.12/dist-packages (from torch!=2.0.1,!=2.1.0,<3.0.0,>=2.0.0->tianshou==1.2.0->-r requirements.txt (line 4)) (12.5.4.2)\n",
            "Requirement already satisfied: nvidia-cusparselt-cu12==0.7.1 in /usr/local/lib/python3.12/dist-packages (from torch!=2.0.1,!=2.1.0,<3.0.0,>=2.0.0->tianshou==1.2.0->-r requirements.txt (line 4)) (0.7.1)\n",
            "Requirement already satisfied: nvidia-nccl-cu12==2.27.3 in /usr/local/lib/python3.12/dist-packages (from torch!=2.0.1,!=2.1.0,<3.0.0,>=2.0.0->tianshou==1.2.0->-r requirements.txt (line 4)) (2.27.3)\n",
            "Requirement already satisfied: nvidia-nvtx-cu12==12.6.77 in /usr/local/lib/python3.12/dist-packages (from torch!=2.0.1,!=2.1.0,<3.0.0,>=2.0.0->tianshou==1.2.0->-r requirements.txt (line 4)) (12.6.77)\n",
            "Requirement already satisfied: nvidia-nvjitlink-cu12==12.6.85 in /usr/local/lib/python3.12/dist-packages (from torch!=2.0.1,!=2.1.0,<3.0.0,>=2.0.0->tianshou==1.2.0->-r requirements.txt (line 4)) (12.6.85)\n",
            "Requirement already satisfied: nvidia-cufile-cu12==1.11.1.6 in /usr/local/lib/python3.12/dist-packages (from torch!=2.0.1,!=2.1.0,<3.0.0,>=2.0.0->tianshou==1.2.0->-r requirements.txt (line 4)) (1.11.1.6)\n",
            "Requirement already satisfied: triton==3.4.0 in /usr/local/lib/python3.12/dist-packages (from torch!=2.0.1,!=2.1.0,<3.0.0,>=2.0.0->tianshou==1.2.0->-r requirements.txt (line 4)) (3.4.0)\n",
            "Collecting distlib<1,>=0.3.7 (from virtualenv!=20.4.5,!=20.4.6,<21.0.0,>=20.4.3->tianshou==1.2.0->-r requirements.txt (line 4))\n",
            "  Downloading distlib-0.4.0-py2.py3-none-any.whl.metadata (5.2 kB)\n",
            "Requirement already satisfied: platformdirs<5,>=3.9.1 in /usr/local/lib/python3.12/dist-packages (from virtualenv!=20.4.5,!=20.4.6,<21.0.0,>=20.4.3->tianshou==1.2.0->-r requirements.txt (line 4)) (4.5.0)\n",
            "Requirement already satisfied: idna>=2.8 in /usr/local/lib/python3.12/dist-packages (from anyio<5,>=3.6.2->starlette<0.49.0,>=0.40.0->fastapi->-r requirements.txt (line 6)) (3.11)\n",
            "Requirement already satisfied: sniffio>=1.1 in /usr/local/lib/python3.12/dist-packages (from anyio<5,>=3.6.2->starlette<0.49.0,>=0.40.0->fastapi->-r requirements.txt (line 6)) (1.3.1)\n",
            "Requirement already satisfied: mpmath<1.4,>=1.1.0 in /usr/local/lib/python3.12/dist-packages (from sympy>=1.13.3->torch!=2.0.1,!=2.1.0,<3.0.0,>=2.0.0->tianshou==1.2.0->-r requirements.txt (line 4)) (1.3.0)\n",
            "Requirement already satisfied: MarkupSafe>=2.1.1 in /usr/local/lib/python3.12/dist-packages (from werkzeug>=1.0.1->tensorboard<3.0.0,>=2.5.0->tianshou==1.2.0->-r requirements.txt (line 4)) (3.0.3)\n",
            "Downloading numpy-1.26.4-cp312-cp312-manylinux_2_17_x86_64.manylinux2014_x86_64.whl (18.0 MB)\n",
            "\u001b[2K   \u001b[90m━━━━━━━━━━━━━━━━━━━━━━━━━━━━━━━━━━━━━━━━\u001b[0m \u001b[32m18.0/18.0 MB\u001b[0m \u001b[31m128.1 MB/s\u001b[0m eta \u001b[36m0:00:00\u001b[0m\n",
            "\u001b[?25hDownloading pulp-3.3.0-py3-none-any.whl (16.4 MB)\n",
            "\u001b[2K   \u001b[90m━━━━━━━━━━━━━━━━━━━━━━━━━━━━━━━━━━━━━━━━\u001b[0m \u001b[32m16.4/16.4 MB\u001b[0m \u001b[31m121.7 MB/s\u001b[0m eta \u001b[36m0:00:00\u001b[0m\n",
            "\u001b[?25hDownloading gymnasium-0.28.1-py3-none-any.whl (925 kB)\n",
            "\u001b[2K   \u001b[90m━━━━━━━━━━━━━━━━━━━━━━━━━━━━━━━━━━━━━━━━\u001b[0m \u001b[32m925.5/925.5 kB\u001b[0m \u001b[31m71.4 MB/s\u001b[0m eta \u001b[36m0:00:00\u001b[0m\n",
            "\u001b[?25hDownloading tianshou-1.2.0-py3-none-any.whl (273 kB)\n",
            "\u001b[2K   \u001b[90m━━━━━━━━━━━━━━━━━━━━━━━━━━━━━━━━━━━━━━━━\u001b[0m \u001b[32m273.1/273.1 kB\u001b[0m \u001b[31m30.5 MB/s\u001b[0m eta \u001b[36m0:00:00\u001b[0m\n",
            "\u001b[?25hDownloading deepdiff-7.0.1-py3-none-any.whl (80 kB)\n",
            "\u001b[2K   \u001b[90m━━━━━━━━━━━━━━━━━━━━━━━━━━━━━━━━━━━━━━━━\u001b[0m \u001b[32m80.8/80.8 kB\u001b[0m \u001b[31m10.1 MB/s\u001b[0m eta \u001b[36m0:00:00\u001b[0m\n",
            "\u001b[?25hDownloading httptools-0.7.1-cp312-cp312-manylinux1_x86_64.manylinux_2_28_x86_64.manylinux_2_5_x86_64.whl (517 kB)\n",
            "\u001b[2K   \u001b[90m━━━━━━━━━━━━━━━━━━━━━━━━━━━━━━━━━━━━━━━━\u001b[0m \u001b[32m517.7/517.7 kB\u001b[0m \u001b[31m45.1 MB/s\u001b[0m eta \u001b[36m0:00:00\u001b[0m\n",
            "\u001b[?25hDownloading jax_jumpy-1.0.0-py3-none-any.whl (20 kB)\n",
            "Downloading pettingzoo-1.24.3-py3-none-any.whl (847 kB)\n",
            "\u001b[2K   \u001b[90m━━━━━━━━━━━━━━━━━━━━━━━━━━━━━━━━━━━━━━━━\u001b[0m \u001b[32m847.8/847.8 kB\u001b[0m \u001b[31m62.3 MB/s\u001b[0m eta \u001b[36m0:00:00\u001b[0m\n",
            "\u001b[?25hDownloading sensai_utils-1.6.0-py3-none-any.whl (69 kB)\n",
            "\u001b[2K   \u001b[90m━━━━━━━━━━━━━━━━━━━━━━━━━━━━━━━━━━━━━━━━\u001b[0m \u001b[32m69.3/69.3 kB\u001b[0m \u001b[31m7.5 MB/s\u001b[0m eta \u001b[36m0:00:00\u001b[0m\n",
            "\u001b[?25hDownloading uvloop-0.22.1-cp312-cp312-manylinux2014_x86_64.manylinux_2_17_x86_64.manylinux_2_28_x86_64.whl (4.4 MB)\n",
            "\u001b[2K   \u001b[90m━━━━━━━━━━━━━━━━━━━━━━━━━━━━━━━━━━━━━━━━\u001b[0m \u001b[32m4.4/4.4 MB\u001b[0m \u001b[31m139.4 MB/s\u001b[0m eta \u001b[36m0:00:00\u001b[0m\n",
            "\u001b[?25hDownloading virtualenv-20.35.3-py3-none-any.whl (6.0 MB)\n",
            "\u001b[2K   \u001b[90m━━━━━━━━━━━━━━━━━━━━━━━━━━━━━━━━━━━━━━━━\u001b[0m \u001b[32m6.0/6.0 MB\u001b[0m \u001b[31m150.6 MB/s\u001b[0m eta \u001b[36m0:00:00\u001b[0m\n",
            "\u001b[?25hDownloading watchfiles-1.1.1-cp312-cp312-manylinux_2_17_x86_64.manylinux2014_x86_64.whl (456 kB)\n",
            "\u001b[2K   \u001b[90m━━━━━━━━━━━━━━━━━━━━━━━━━━━━━━━━━━━━━━━━\u001b[0m \u001b[32m456.8/456.8 kB\u001b[0m \u001b[31m46.0 MB/s\u001b[0m eta \u001b[36m0:00:00\u001b[0m\n",
            "\u001b[?25hDownloading distlib-0.4.0-py2.py3-none-any.whl (469 kB)\n",
            "\u001b[2K   \u001b[90m━━━━━━━━━━━━━━━━━━━━━━━━━━━━━━━━━━━━━━━━\u001b[0m \u001b[32m469.0/469.0 kB\u001b[0m \u001b[31m42.6 MB/s\u001b[0m eta \u001b[36m0:00:00\u001b[0m\n",
            "\u001b[?25hDownloading ordered_set-4.1.0-py3-none-any.whl (7.6 kB)\n",
            "Installing collected packages: distlib, virtualenv, uvloop, sensai-utils, pulp, ordered-set, numpy, httptools, watchfiles, jax-jumpy, deepdiff, gymnasium, pettingzoo, tianshou\n",
            "  Attempting uninstall: numpy\n",
            "    Found existing installation: numpy 2.0.2\n",
            "    Uninstalling numpy-2.0.2:\n",
            "      Successfully uninstalled numpy-2.0.2\n",
            "  Attempting uninstall: gymnasium\n",
            "    Found existing installation: gymnasium 1.2.1\n",
            "    Uninstalling gymnasium-1.2.1:\n",
            "      Successfully uninstalled gymnasium-1.2.1\n",
            "\u001b[31mERROR: pip's dependency resolver does not currently take into account all the packages that are installed. This behaviour is the source of the following dependency conflicts.\n",
            "jaxlib 0.7.2 requires numpy>=2.0, but you have numpy 1.26.4 which is incompatible.\n",
            "dopamine-rl 4.1.2 requires gymnasium>=1.0.0, but you have gymnasium 0.28.1 which is incompatible.\n",
            "pytensor 2.35.1 requires numpy>=2.0, but you have numpy 1.26.4 which is incompatible.\n",
            "jax 0.7.2 requires numpy>=2.0, but you have numpy 1.26.4 which is incompatible.\n",
            "thinc 8.3.6 requires numpy<3.0.0,>=2.0.0, but you have numpy 1.26.4 which is incompatible.\n",
            "opencv-contrib-python 4.12.0.88 requires numpy<2.3.0,>=2; python_version >= \"3.9\", but you have numpy 1.26.4 which is incompatible.\n",
            "opencv-python-headless 4.12.0.88 requires numpy<2.3.0,>=2; python_version >= \"3.9\", but you have numpy 1.26.4 which is incompatible.\n",
            "opencv-python 4.12.0.88 requires numpy<2.3.0,>=2; python_version >= \"3.9\", but you have numpy 1.26.4 which is incompatible.\u001b[0m\u001b[31m\n",
            "\u001b[0mSuccessfully installed deepdiff-7.0.1 distlib-0.4.0 gymnasium-0.28.1 httptools-0.7.1 jax-jumpy-1.0.0 numpy-1.26.4 ordered-set-4.1.0 pettingzoo-1.24.3 pulp-3.3.0 sensai-utils-1.6.0 tianshou-1.2.0 uvloop-0.22.1 virtualenv-20.35.3 watchfiles-1.1.1\n"
          ]
        },
        {
          "output_type": "display_data",
          "data": {
            "application/vnd.colab-display-data+json": {
              "pip_warning": {
                "packages": [
                  "numpy"
                ]
              },
              "id": "fc82b5319ae2463aa561d21705c5e29d"
            }
          },
          "metadata": {}
        }
      ]
    },
    {
      "cell_type": "markdown",
      "source": [
        "### 구글 드라이브 마운트, 경로 추가"
      ],
      "metadata": {
        "id": "Rth3KJHrXtU8"
      }
    },
    {
      "cell_type": "code",
      "source": [
        "from google.colab import drive\n",
        "drive.mount('/content/drive')"
      ],
      "metadata": {
        "id": "75fM74eFFoRk",
        "colab": {
          "base_uri": "https://localhost:8080/"
        },
        "outputId": "da9b09c5-65ff-4ae9-8074-0b3d1f74a617"
      },
      "execution_count": null,
      "outputs": [
        {
          "output_type": "stream",
          "name": "stdout",
          "text": [
            "Drive already mounted at /content/drive; to attempt to forcibly remount, call drive.mount(\"/content/drive\", force_remount=True).\n"
          ]
        }
      ]
    },
    {
      "cell_type": "code",
      "source": [
        "import sys, os\n",
        "# Set working directory to your project root\n",
        "%cd \"/content/drive/MyDrive/Colab Notebooks/25-capstone/project\""
      ],
      "metadata": {
        "colab": {
          "base_uri": "https://localhost:8080/"
        },
        "id": "xDzudfNPB61j",
        "outputId": "a49ab444-9819-4587-866c-8453a0fa1193"
      },
      "execution_count": null,
      "outputs": [
        {
          "output_type": "stream",
          "name": "stdout",
          "text": [
            "/content/drive/MyDrive/Colab Notebooks/25-capstone/project\n"
          ]
        }
      ]
    },
    {
      "cell_type": "code",
      "source": [
        "root = os.getcwd()\n",
        "app_dir = os.path.join(root, \"app\")\n",
        "for p in (root, app_dir):\n",
        "    if p not in sys.path:\n",
        "        sys.path.insert(0, p)"
      ],
      "metadata": {
        "id": "ViZVaFKcTst7"
      },
      "execution_count": null,
      "outputs": []
    },
    {
      "cell_type": "markdown",
      "source": [
        "### 실행"
      ],
      "metadata": {
        "id": "K2N_Y2KgAazs"
      }
    },
    {
      "cell_type": "code",
      "source": [
        "from pprint import pprint\n",
        "from main import generate_one_week_schedule, OneWeekInput\n",
        "from datetime import date"
      ],
      "metadata": {
        "colab": {
          "base_uri": "https://localhost:8080/"
        },
        "id": "jyjYeOfpWa4X",
        "outputId": "f9444574-4dd0-4669-8f00-5b1afecf8446"
      },
      "execution_count": null,
      "outputs": [
        {
          "output_type": "stream",
          "name": "stderr",
          "text": [
            "/usr/local/lib/python3.12/dist-packages/jupyter_client/session.py:203: DeprecationWarning: datetime.datetime.utcnow() is deprecated and scheduled for removal in a future version. Use timezone-aware objects to represent datetimes in UTC: datetime.datetime.now(datetime.UTC).\n",
            "  return datetime.utcnow().replace(tzinfo=utc)\n"
          ]
        }
      ]
    },
    {
      "cell_type": "code",
      "source": [
        "body = OneWeekInput(week_start=date.fromisoformat(\"2025-10-27\"))\n",
        "resp = generate_one_week_schedule(body)\n",
        "pprint(resp)"
      ],
      "metadata": {
        "colab": {
          "base_uri": "https://localhost:8080/"
        },
        "id": "vYTI-jiba2Kt",
        "outputId": "fd686d0c-5653-4b32-a520-4634aca92203"
      },
      "execution_count": null,
      "outputs": [
        {
          "output_type": "stream",
          "name": "stderr",
          "text": [
            "/usr/local/lib/python3.12/dist-packages/pulp/pulp.py:1865: UserWarning: Overwriting previously set objective.\n",
            "  warnings.warn(\"Overwriting previously set objective.\")\n"
          ]
        },
        {
          "output_type": "stream",
          "name": "stdout",
          "text": [
            "{'weeklyTodos': [{'date': '2025-10-27', 'todos': []},\n",
            "                 {'date': '2025-10-28',\n",
            "                  'todos': [{'id': '1ea7c6',\n",
            "                             'isDone': False,\n",
            "                             'startHour': '19:00',\n",
            "                             'title': '거실 - 청소기로 바닥 먼지 제거'}]},\n",
            "                 {'date': '2025-10-29',\n",
            "                  'todos': [{'id': 'c6d3d3',\n",
            "                             'isDone': False,\n",
            "                             'startHour': '08:00',\n",
            "                             'title': '화장실 - 변기 청소'}]},\n",
            "                 {'date': '2025-10-30',\n",
            "                  'todos': [{'id': 'bce990',\n",
            "                             'isDone': False,\n",
            "                             'startHour': '17:00',\n",
            "                             'title': '쓰레기 배출'}]},\n",
            "                 {'date': '2025-10-31',\n",
            "                  'todos': [{'id': '5e3a78',\n",
            "                             'isDone': False,\n",
            "                             'startHour': '21:00',\n",
            "                             'title': '창틀 먼지 닦기'}]},\n",
            "                 {'date': '2025-11-01',\n",
            "                  'todos': [{'id': '925ad6',\n",
            "                             'isDone': False,\n",
            "                             'startHour': '16:00',\n",
            "                             'title': '주방 - 냉장고 유통기한 지난 음식 1개 이상 처분'},\n",
            "                            {'id': '40b785',\n",
            "                             'isDone': False,\n",
            "                             'startHour': '17:00',\n",
            "                             'title': '화장실 - 하수구 청소'}]},\n",
            "                 {'date': '2025-11-02',\n",
            "                  'todos': [{'id': 'f38795',\n",
            "                             'isDone': False,\n",
            "                             'startHour': '10:00',\n",
            "                             'title': '화장실 - 바닥 청소'},\n",
            "                            {'id': '1b7fc8',\n",
            "                             'isDone': False,\n",
            "                             'startHour': '16:00',\n",
            "                             'title': '거실 - 청소기로 바닥 먼지 제거'},\n",
            "                            {'id': 'ed9ac4',\n",
            "                             'isDone': False,\n",
            "                             'startHour': '17:00',\n",
            "                             'title': '주방 - 행주 삶기'},\n",
            "                            {'id': 'dedf8a',\n",
            "                             'isDone': False,\n",
            "                             'startHour': '19:00',\n",
            "                             'title': '세탁실 - 세탁기 세제통 씻기'}]}]}\n"
          ]
        }
      ]
    },
    {
      "cell_type": "code",
      "source": [
        "body = OneWeekInput(week_start=date.fromisoformat(\"2025-11-03\"))\n",
        "resp = generate_one_week_schedule(body)\n",
        "pprint(resp)"
      ],
      "metadata": {
        "colab": {
          "base_uri": "https://localhost:8080/"
        },
        "id": "ZS3NaskhazEi",
        "outputId": "fc08f164-771d-4511-8804-477d12a1f0ae"
      },
      "execution_count": null,
      "outputs": [
        {
          "output_type": "stream",
          "name": "stdout",
          "text": [
            "{'weeklyTodos': [{'date': '2025-11-03',\n",
            "                  'todos': [{'id': '0ce6a0',\n",
            "                             'isDone': False,\n",
            "                             'startHour': '08:00',\n",
            "                             'title': '화장실 - 세면대 청소'}]},\n",
            "                 {'date': '2025-11-04',\n",
            "                  'todos': [{'id': '160ff8',\n",
            "                             'isDone': False,\n",
            "                             'startHour': '20:00',\n",
            "                             'title': '거실 - 테이블 위 정리'},\n",
            "                            {'id': 'eca263',\n",
            "                             'isDone': False,\n",
            "                             'startHour': '22:00',\n",
            "                             'title': '거실 - 가구 표면 먼지 털기 (먼지털이)'}]},\n",
            "                 {'date': '2025-11-05',\n",
            "                  'todos': [{'id': '12e698',\n",
            "                             'isDone': False,\n",
            "                             'startHour': '18:00',\n",
            "                             'title': '화장실 - 변기 청소'}]},\n",
            "                 {'date': '2025-11-06',\n",
            "                  'todos': [{'id': 'a489d9',\n",
            "                             'isDone': False,\n",
            "                             'startHour': '17:00',\n",
            "                             'title': '주방 - 행주 삶기'},\n",
            "                            {'id': '93e95d',\n",
            "                             'isDone': False,\n",
            "                             'startHour': '23:00',\n",
            "                             'title': '거실 - 바닥 물걸레질'}]},\n",
            "                 {'date': '2025-11-07',\n",
            "                  'todos': [{'id': '09ea6f',\n",
            "                             'isDone': False,\n",
            "                             'startHour': '18:00',\n",
            "                             'title': '거실 - 가구 표면 먼지 닦기 (물걸레)'},\n",
            "                            {'id': 'c100bf',\n",
            "                             'isDone': False,\n",
            "                             'startHour': '21:00',\n",
            "                             'title': '세탁실 - 세탁기 세제통 씻기'}]},\n",
            "                 {'date': '2025-11-08',\n",
            "                  'todos': [{'id': '598a9d',\n",
            "                             'isDone': False,\n",
            "                             'startHour': '12:00',\n",
            "                             'title': '전자기기 소독'}]},\n",
            "                 {'date': '2025-11-09',\n",
            "                  'todos': [{'id': '41616e',\n",
            "                             'isDone': False,\n",
            "                             'startHour': '15:00',\n",
            "                             'title': '주방 - 냉장고 유통기한 지난 음식 1개 이상 처분'},\n",
            "                            {'id': 'a2e2cd',\n",
            "                             'isDone': False,\n",
            "                             'startHour': '16:00',\n",
            "                             'title': '창틀 먼지 닦기'},\n",
            "                            {'id': 'fc7f25',\n",
            "                             'isDone': False,\n",
            "                             'startHour': '22:00',\n",
            "                             'title': '쓰레기 배출'},\n",
            "                            {'id': 'e04b59',\n",
            "                             'isDone': False,\n",
            "                             'startHour': '22:00',\n",
            "                             'title': '화장실 - 수납장 내부 정리 및 청소'}]}]}\n"
          ]
        },
        {
          "output_type": "stream",
          "name": "stderr",
          "text": [
            "/usr/local/lib/python3.12/dist-packages/jupyter_client/session.py:203: DeprecationWarning: datetime.datetime.utcnow() is deprecated and scheduled for removal in a future version. Use timezone-aware objects to represent datetimes in UTC: datetime.datetime.now(datetime.UTC).\n",
            "  return datetime.utcnow().replace(tzinfo=utc)\n"
          ]
        }
      ]
    },
    {
      "cell_type": "code",
      "source": [
        "body = OneWeekInput(week_start=date.fromisoformat(\"2025-11-10\"))\n",
        "resp = generate_one_week_schedule(body)\n",
        "pprint(resp)"
      ],
      "metadata": {
        "colab": {
          "base_uri": "https://localhost:8080/"
        },
        "id": "lBB_ge3LRvXU",
        "outputId": "9369352a-e003-4a9f-dcbc-580f0801f347"
      },
      "execution_count": null,
      "outputs": [
        {
          "output_type": "stream",
          "name": "stderr",
          "text": [
            "/usr/local/lib/python3.12/dist-packages/pulp/pulp.py:1865: UserWarning: Overwriting previously set objective.\n",
            "  warnings.warn(\"Overwriting previously set objective.\")\n"
          ]
        },
        {
          "output_type": "stream",
          "name": "stdout",
          "text": [
            "{'weeklyTodos': [{'date': '2025-11-10',\n",
            "                  'todos': [{'id': '075568',\n",
            "                             'isDone': False,\n",
            "                             'startHour': '08:00',\n",
            "                             'title': '화장실 - 세면대 청소'}]},\n",
            "                 {'date': '2025-11-11',\n",
            "                  'todos': [{'id': '00023f',\n",
            "                             'isDone': False,\n",
            "                             'startHour': '20:00',\n",
            "                             'title': '거실 - 테이블 위 정리'},\n",
            "                            {'id': '45204f',\n",
            "                             'isDone': False,\n",
            "                             'startHour': '22:00',\n",
            "                             'title': '거실 - 가구 표면 먼지 털기 (먼지털이)'}]},\n",
            "                 {'date': '2025-11-12',\n",
            "                  'todos': [{'id': 'f877cf',\n",
            "                             'isDone': False,\n",
            "                             'startHour': '18:00',\n",
            "                             'title': '화장실 - 변기 청소'}]},\n",
            "                 {'date': '2025-11-13',\n",
            "                  'todos': [{'id': '71dbb3',\n",
            "                             'isDone': False,\n",
            "                             'startHour': '17:00',\n",
            "                             'title': '주방 - 행주 삶기'},\n",
            "                            {'id': '0db952',\n",
            "                             'isDone': False,\n",
            "                             'startHour': '23:00',\n",
            "                             'title': '거실 - 바닥 물걸레질'}]},\n",
            "                 {'date': '2025-11-14',\n",
            "                  'todos': [{'id': 'c96451',\n",
            "                             'isDone': False,\n",
            "                             'startHour': '18:00',\n",
            "                             'title': '거실 - 가구 표면 먼지 닦기 (물걸레)'},\n",
            "                            {'id': '71778d',\n",
            "                             'isDone': False,\n",
            "                             'startHour': '21:00',\n",
            "                             'title': '세탁실 - 세탁기 세제통 씻기'}]},\n",
            "                 {'date': '2025-11-15',\n",
            "                  'todos': [{'id': '1eb938',\n",
            "                             'isDone': False,\n",
            "                             'startHour': '12:00',\n",
            "                             'title': '전자기기 소독'}]},\n",
            "                 {'date': '2025-11-16',\n",
            "                  'todos': [{'id': '87d780',\n",
            "                             'isDone': False,\n",
            "                             'startHour': '15:00',\n",
            "                             'title': '주방 - 냉장고 유통기한 지난 음식 1개 이상 처분'},\n",
            "                            {'id': 'c53afd',\n",
            "                             'isDone': False,\n",
            "                             'startHour': '16:00',\n",
            "                             'title': '창틀 먼지 닦기'},\n",
            "                            {'id': 'b96103',\n",
            "                             'isDone': False,\n",
            "                             'startHour': '22:00',\n",
            "                             'title': '쓰레기 배출'},\n",
            "                            {'id': '4d0202',\n",
            "                             'isDone': False,\n",
            "                             'startHour': '22:00',\n",
            "                             'title': '화장실 - 수납장 내부 정리 및 청소'}]}]}\n"
          ]
        }
      ]
    },
    {
      "cell_type": "code",
      "source": [
        "body = OneWeekInput(week_start=date.fromisoformat(\"2025-11-17\"))\n",
        "resp = generate_one_week_schedule(body)\n",
        "pprint(resp)"
      ],
      "metadata": {
        "colab": {
          "base_uri": "https://localhost:8080/"
        },
        "id": "_f6ogVFsRk2m",
        "outputId": "340d9795-a768-4d85-9048-88ea5cb760e5"
      },
      "execution_count": null,
      "outputs": [
        {
          "output_type": "stream",
          "name": "stdout",
          "text": [
            "{'weeklyTodos': [{'date': '2025-11-17',\n",
            "                  'todos': [{'id': '11758f',\n",
            "                             'isDone': False,\n",
            "                             'startHour': '08:00',\n",
            "                             'title': '화장실 - 세면대 청소'}]},\n",
            "                 {'date': '2025-11-18',\n",
            "                  'todos': [{'id': '546bb9',\n",
            "                             'isDone': False,\n",
            "                             'startHour': '12:00',\n",
            "                             'title': '거실 - 가구 표면 먼지 털기 (먼지털이)'},\n",
            "                            {'id': '3ceaf4',\n",
            "                             'isDone': False,\n",
            "                             'startHour': '20:00',\n",
            "                             'title': '거실 - 테이블 위 정리'}]},\n",
            "                 {'date': '2025-11-19',\n",
            "                  'todos': [{'id': '686d94',\n",
            "                             'isDone': False,\n",
            "                             'startHour': '18:00',\n",
            "                             'title': '화장실 - 변기 청소'}]},\n",
            "                 {'date': '2025-11-20',\n",
            "                  'todos': [{'id': 'cbfc41',\n",
            "                             'isDone': False,\n",
            "                             'startHour': '17:00',\n",
            "                             'title': '주방 - 행주 삶기'},\n",
            "                            {'id': '109ad7',\n",
            "                             'isDone': False,\n",
            "                             'startHour': '23:00',\n",
            "                             'title': '거실 - 바닥 물걸레질'}]},\n",
            "                 {'date': '2025-11-21',\n",
            "                  'todos': [{'id': 'e342ea',\n",
            "                             'isDone': False,\n",
            "                             'startHour': '18:00',\n",
            "                             'title': '거실 - 가구 표면 먼지 닦기 (물걸레)'},\n",
            "                            {'id': 'c068bc',\n",
            "                             'isDone': False,\n",
            "                             'startHour': '21:00',\n",
            "                             'title': '세탁실 - 세탁기 세제통 씻기'}]},\n",
            "                 {'date': '2025-11-22',\n",
            "                  'todos': [{'id': 'db8614',\n",
            "                             'isDone': False,\n",
            "                             'startHour': '12:00',\n",
            "                             'title': '전자기기 소독'}]},\n",
            "                 {'date': '2025-11-23',\n",
            "                  'todos': [{'id': '822dbd',\n",
            "                             'isDone': False,\n",
            "                             'startHour': '15:00',\n",
            "                             'title': '주방 - 냉장고 유통기한 지난 음식 1개 이상 처분'},\n",
            "                            {'id': '61080e',\n",
            "                             'isDone': False,\n",
            "                             'startHour': '16:00',\n",
            "                             'title': '창틀 먼지 닦기'},\n",
            "                            {'id': '767e1a',\n",
            "                             'isDone': False,\n",
            "                             'startHour': '22:00',\n",
            "                             'title': '쓰레기 배출'},\n",
            "                            {'id': '861720',\n",
            "                             'isDone': False,\n",
            "                             'startHour': '22:00',\n",
            "                             'title': '화장실 - 수납장 내부 정리 및 청소'}]}]}\n"
          ]
        }
      ]
    }
  ]
}